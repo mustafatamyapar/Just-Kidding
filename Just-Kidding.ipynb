{
  "cells": [
    {
      "cell_type": "markdown",
      "metadata": {
        "id": "ImezOq87-01Q"
      },
      "source": [
        "# Necessary Imports and Connecting Google Drive"
      ]
    },
    {
      "cell_type": "code",
      "execution_count": null,
      "metadata": {
        "colab": {
          "base_uri": "https://localhost:8080/"
        },
        "id": "h6V75i7m8vUy",
        "outputId": "e983817e-f2da-4804-8390-e15594083b7c"
      },
      "outputs": [],
      "source": [
        "from google.colab import drive\n",
        "drive.mount(\"/content/gdrive/\")\n",
        "\n",
        "import pandas as pd\n",
        "import numpy as np\n",
        "import csv\n",
        "import nltk\n",
        "from sklearn import svm\n",
        "from sklearn import naive_bayes\n",
        "from sklearn import metrics\n",
        "import matplotlib.pyplot as plt\n",
        "from nltk.tokenize import word_tokenize\n",
        "from nltk import pos_tag\n",
        "from nltk.corpus import stopwords\n",
        "from nltk.stem import WordNetLemmatizer\n",
        "from nltk.corpus import wordnet as wn\n",
        "from collections import defaultdict\n",
        "from sklearn import model_selection, svm\n",
        "from sklearn.ensemble import RandomForestClassifier\n",
        "from sklearn.naive_bayes import MultinomialNB\n",
        "import string\n",
        "import os\n",
        "from sklearn.preprocessing import LabelEncoder\n",
        "from sklearn.feature_extraction.text import TfidfVectorizer\n",
        "from sklearn.metrics import accuracy_score, confusion_matrix"
      ]
    },
    {
      "cell_type": "markdown",
      "metadata": {
        "id": "Ndl2S1gt_LMo"
      },
      "source": [
        "# Reading the Data"
      ]
    },
    {
      "cell_type": "code",
      "execution_count": null,
      "metadata": {
        "colab": {
          "base_uri": "https://localhost:8080/"
        },
        "id": "JFsZ2gBmEa0Y",
        "outputId": "9270c30a-f296-45e3-9430-aeabd49714b3"
      },
      "outputs": [],
      "source": [
        "nltk.download('punkt')\n",
        "nltk.download('wordnet')\n",
        "nltk.download('omw-1.4')\n",
        "nltk.download('averaged_perceptron_tagger')\n",
        "nltk.download('stopwords')\n",
        "\n",
        "# data = pd.read_csv('train-balanced-sarcasm.csv', on_bad_lines=\"skip\", engine=\"python\", nrows = 100000)\n",
        "\n",
        "# Read the labels and the data\n",
        "dataset_dir = '/content/gdrive/MyDrive/CS464/'\n",
        "dataset_path = os.path.join(dataset_dir, 'train-balanced-sarcasm.csv')\n",
        "labels = pd.read_csv(dataset_path, dtype=int, usecols= ['label'], nrows = 100000)  \n",
        "sarcasm_data = pd.read_csv(dataset_path, dtype= str, usecols = ['comment'], nrows = 100000)\n",
        "\n",
        "sarcasm_data = pd.DataFrame(sarcasm_data)\n",
        "sarcasm_data['comment'].dropna(inplace=True)\n",
        "sarcasm_data['comment'] = sarcasm_data['comment'].astype(str)\n",
        "\n",
        "# make all comments lowercase\n",
        "sarcasm_data['comment'] = sarcasm_data['comment'].str.lower()\n",
        "\n",
        "# remove punctuations\n",
        "def remove_punctuations(text):\n",
        "    for char in string.punctuation:\n",
        "        text = text.replace(char, '')\n",
        "    return text\n",
        "sarcasm_data['comment'] = sarcasm_data['comment'].apply(remove_punctuations)\n",
        "# tokenization\n",
        "sarcasm_data['comment'] = sarcasm_data['comment'].apply(word_tokenize)\n",
        "\n",
        "# tag adjectives, verbs and adverbs for lemmatization\n",
        "tag_map = defaultdict(lambda : wn.NOUN)\n",
        "tag_map['J'] = wn.ADJ \n",
        "tag_map['V'] = wn.VERB \n",
        "tag_map['R'] = wn.ADV \n",
        "\n",
        "for i in range(sarcasm_data.shape[0]):\n",
        "    # Declaring Empty List to store the words that follow the rules for this step\n",
        "    Final_words = []\n",
        "    # Initializing WordNetLemmatizer()\n",
        "    word_Lemmatized = WordNetLemmatizer()\n",
        "    # pos_tag function below will provide the 'tag' i.e if the word is Noun(N) or Verb(V) or something else.\n",
        "    for word, tag in pos_tag(sarcasm_data['comment'].iloc[i]):\n",
        "        # Below condition is to check for Stop words and consider only alphabets\n",
        "        if word not in stopwords.words('english') and word.isalpha():\n",
        "            word_Final = word_Lemmatized.lemmatize(word,tag_map[tag[0]])\n",
        "            Final_words.append(word_Final)\n",
        "    # The final processed set of words for each iteration will be stored in 'text_final'\n",
        "    sarcasm_data.loc[i,'comment'] = str(Final_words)\n",
        "    \n",
        "print(\"Finished preprocessing\")\n",
        "print(sarcasm_data)\n"
      ]
    },
    {
      "cell_type": "code",
      "execution_count": null,
      "metadata": {
        "colab": {
          "base_uri": "https://localhost:8080/"
        },
        "id": "3mnZH1NzH0Fd",
        "outputId": "befd1baa-a023-41fb-b217-7f3f65f4a76e"
      },
      "outputs": [],
      "source": [
        "# Split the data into validation, test, training\n",
        "Train_X, Data_X, Train_Y, Data_Y = model_selection.train_test_split(sarcasm_data['comment'], labels['label'], test_size=0.3)\n",
        "Test_X, Val_X, Test_Y, Val_Y = model_selection.train_test_split(Data_X,Data_Y,test_size=1/3)\n",
        "# Encode the labels \n",
        "Encoder = LabelEncoder()\n",
        "Train_Y = Encoder.fit_transform(Train_Y)\n",
        "Test_Y = Encoder.fit_transform(Test_Y)\n",
        "# Vectorize the text data\n",
        "Tfidf_vect = TfidfVectorizer(max_features=10000)\n",
        "Tfidf_vect.fit(sarcasm_data['comment'])\n",
        "Train_X_Tfidf = Tfidf_vect.transform(Train_X)\n",
        "Test_X_Tfidf = Tfidf_vect.transform(Test_X)\n",
        "print(Tfidf_vect.vocabulary_)"
      ]
    },
    {
      "cell_type": "code",
      "execution_count": 8,
      "metadata": {
        "colab": {
          "base_uri": "https://localhost:8080/",
          "height": 314
        },
        "id": "RrpWJOaGH4ES",
        "outputId": "cf95c905-34e5-47a9-ef7f-71034554c3dd"
      },
      "outputs": [
        {
          "name": "stdout",
          "output_type": "stream",
          "text": [
            "SVM Accuracy Score ->  67.105\n",
            "Confusion Matrix for SVM:\n"
          ]
        },
        {
          "data": {
            "image/png": "[encoded data removed]",
            "text/plain": [
              "<Figure size 432x288 with 2 Axes>"
            ]
          },
          "metadata": {
            "needs_background": "light"
          },
          "output_type": "display_data"
        }
      ],
      "source": [
        "# SVM\n",
        "# fit the training dataset on the classifier\n",
        "SVM = svm.SVC(C=1.0, kernel='linear', degree=3, gamma='auto')\n",
        "SVM.fit(Train_X_Tfidf,Train_Y)\n",
        "# predict the labels on validation dataset\n",
        "predictions_SVM = SVM.predict(Test_X_Tfidf)\n",
        "# Find the accuracy score\n",
        "print(\"SVM Accuracy Score -> \", accuracy_score(predictions_SVM, Test_Y)*100)\n",
        "print(\"Confusion Matrix for SVM:\")\n",
        "conf_matrix=confusion_matrix(Test_Y, predictions_SVM, labels=[0,1])\n",
        "cm_display = metrics.ConfusionMatrixDisplay(confusion_matrix = conf_matrix, display_labels = [False, True])\n",
        "cm_display.plot()\n",
        "plt.show()"
      ]
    },
    {
      "cell_type": "code",
      "execution_count": 7,
      "metadata": {
        "colab": {
          "base_uri": "https://localhost:8080/",
          "height": 314
        },
        "id": "bthLEjQKHvmj",
        "outputId": "6735b327-c00f-4fa9-d7ad-4211f82892a6"
      },
      "outputs": [
        {
          "name": "stdout",
          "output_type": "stream",
          "text": [
            "RFC Accuracy Score -> 66.675\n",
            "Confusion Matrix for RFC:\n"
          ]
        },
        {
          "data": {
            "image/png": "[encoded data removed]",
            "text/plain": [
              "<Figure size 432x288 with 2 Axes>"
            ]
          },
          "metadata": {
            "needs_background": "light"
          },
          "output_type": "display_data"
        }
      ],
      "source": [
        "# Random Forest\n",
        "RFC = RandomForestClassifier()\n",
        "# fit the training dataset on the classifier\n",
        "RFC.fit(Train_X_Tfidf, Train_Y)\n",
        "# predict the labels on validation set\n",
        "predictions_RFC = RFC.predict(Test_X_Tfidf)\n",
        "# Calc. accuracy\n",
        "print(\"RFC Accuracy Score ->\", accuracy_score(predictions_RFC, Test_Y)*100)\n",
        "print(\"Confusion Matrix for RFC:\")\n",
        "conf_matrix= confusion_matrix(Test_Y, predictions_RFC, labels=[0,1])\n",
        "cm_display = metrics.ConfusionMatrixDisplay(confusion_matrix = conf_matrix, display_labels = [False, True])\n",
        "cm_display.plot()\n",
        "plt.show()\n"
      ]
    },
    {
      "cell_type": "code",
      "execution_count": 6,
      "metadata": {
        "colab": {
          "base_uri": "https://localhost:8080/",
          "height": 314
        },
        "id": "HeWAMq4SwQQX",
        "outputId": "00930a8a-1bb2-4115-bfba-4ad8c6d1cf75"
      },
      "outputs": [
        {
          "name": "stdout",
          "output_type": "stream",
          "text": [
            "NAIVE BAYES Accuracy Score -> 66.29\n",
            "Confusion Matrix for RFC:\n"
          ]
        },
        {
          "data": {
            "image/png": "[encoded data removed]",
            "text/plain": [
              "<Figure size 432x288 with 2 Axes>"
            ]
          },
          "metadata": {
            "needs_background": "light"
          },
          "output_type": "display_data"
        }
      ],
      "source": [
        "#Naive Bayes \n",
        "NAIVE_BAYES = naive_bayes.MultinomialNB()\n",
        "# fit the training dataset on the classifier\n",
        "NAIVE_BAYES.fit(Train_X_Tfidf, Train_Y)\n",
        "# predict the labels on validation set\n",
        "predictions_NAIVE_BAYES = NAIVE_BAYES.predict(Test_X_Tfidf)\n",
        "# Calc. accuracy\n",
        "print(\"NAIVE BAYES Accuracy Score ->\", accuracy_score(predictions_NAIVE_BAYES, Test_Y)*100)\n",
        "print(\"Confusion Matrix for RFC:\")\n",
        "conf_matrix=confusion_matrix(Test_Y, predictions_NAIVE_BAYES, labels=[0,1])\n",
        "cm_display = metrics.ConfusionMatrixDisplay(confusion_matrix = conf_matrix, display_labels = [False, True])\n",
        "cm_display.plot()\n",
        "plt.show()\n",
        "\n"
      ]
    }
  ],
  "metadata": {
    "accelerator": "GPU",
    "colab": {
      "provenance": []
    },
    "gpuClass": "standard",
    "kernelspec": {
      "display_name": "Python 3",
      "name": "python3"
    },
    "language_info": {
      "name": "python"
    }
  },
  "nbformat": 4,
  "nbformat_minor": 0
}
